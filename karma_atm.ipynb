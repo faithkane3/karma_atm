{
 "cells": [
  {
   "cell_type": "code",
   "execution_count": 19,
   "metadata": {},
   "outputs": [],
   "source": [
    "#Karma ATM will start with a karma points balance.\n",
    "\n",
    "def karma_score(num):\n",
    "    ratings = [\n",
    "        {\"advice\" : \"Really?! You obviously aren't worried about karma.\", \"score\" : 100},\n",
    "        {\"advice\" : \"You are doomed! Better start rescuing some kittens!\", \"score\" : 250},\n",
    "        {\"advice\" : \"You know you can do better. Start hugging some trees!\", \"score\" : 400},\n",
    "        {\"advice\" : \"You have some karma work to do, but tomorrow's a new day to do good!\", \"score\" : 550},\n",
    "        {\"advice\" : \"You had a bad day or two. Look out for ways to be better today!\", \"score\" : 700},\n",
    "        {\"advice\" : \"You're walking the line, but the stars seem to be shining on you today!\", \"score\" : 850},\n",
    "        {\"advice\" : \"I tip my hat to you. Let a tree give YOU a hug for a change.\", \"score\" : 1000},\n",
    "        {\"advice\" : \"Can I buy you a drink? You have earned one!\", \"score\" : 1150},\n",
    "        {\"advice\" : \"Can I stand near you? Your auro is pure gold!\", \"score\" : 1300},\n",
    "        {\"advice\" : \"You're a zen master. Who did you train under?!\", \"score\" : 1450},\n",
    "        {\"advice\" : \"What does nirvana look like? I know you know.\", \"score\" : 1600},\n",
    "        {\"advice\" : \"You can't get better karma, but I know that won't stop you from trying!\", \"score\" : 1750}\n",
    "        ]\n",
    "    for rating in ratings:\n",
    "        if rating[\"score\"] == num:\n",
    "            return rating[\"advice\"]"
   ]
  },
  {
   "cell_type": "code",
   "execution_count": null,
   "metadata": {},
   "outputs": [],
   "source": [
    "karma_score(150)"
   ]
  },
  {
   "cell_type": "markdown",
   "metadata": {},
   "source": [
    "## Menu"
   ]
  },
  {
   "cell_type": "code",
   "execution_count": null,
   "metadata": {},
   "outputs": [],
   "source": [
    "from time import sleep as wait\n",
    "\n",
    "print(\"\\n--- Welcome to your karma atm. ---\\n\\n\")\n",
    "print(\"Keep track of your deeds and gauge your current karma balance. \\n\\n\")\n",
    "while True:\n",
    "    wait(.5)\n",
    "    print(\n",
    "    \"What have you done today? Choose from the following options...\\n\\n\"\n",
    "    \"1. View current karma score\\n\"\n",
    "    \"2. Debit 150 karma points (shady act)\\n\"\n",
    "    \"3. Deposit 150 karma points (act of love)\\n\"\n",
    "    \"4. Enjoy the rest of my day while focusing on doing good!\\n\"\n",
    "    )\n",
    "    choice = input(\"Your karma input: \\n\")\n",
    "    # if user doesn't choose 1, 2, 3, or 4 they will be prompted again for valid input\n",
    "    while choice not in \"1234\":\n",
    "        print(\"That is not on the karma scale.\\n\")\n",
    "        choice = input(\"Your karma input: \\n\")\n",
    "        continue"
   ]
  },
  {
   "cell_type": "code",
   "execution_count": null,
   "metadata": {},
   "outputs": [],
   "source": [
    "#Karma ATM will start with a karma points balance.\n",
    "\n",
    "def karma_score(num):\n",
    "    ratings = [\n",
    "        {\"advice\" : \"Really?! You obviously aren't worried about karma.\", \"score\" : 100},\n",
    "        {\"advice\" : \"You are doomed! Better start rescuing some kittens!\", \"score\" : 250},\n",
    "        {\"advice\" : \"You know you can do better. Start hugging some trees!\", \"score\" : 400},\n",
    "        {\"advice\" : \"You have some karma work to do, but tomorrow's a new day to do good!\", \"score\" : 550},\n",
    "        {\"advice\" : \"You had a bad day or two. Look out for ways to be better today!\", \"score\" : 700},\n",
    "        {\"advice\" : \"You're walking the line, but the stars seem to be shining on you today!\", \"score\" : 850},\n",
    "        {\"advice\" : \"I tip my hat to you. Let a tree give YOU a hug for a change.\", \"score\" : 1000},\n",
    "        {\"advice\" : \"Can I buy you a drink? You have earned one!\", \"score\" : 1150},\n",
    "        {\"advice\" : \"Can I stand near you? Your auro is pure gold!\", \"score\" : 1300},\n",
    "        {\"advice\" : \"You're a zen master. Who did you train under?!\", \"score\" : 1450},\n",
    "        {\"advice\" : \"What does nirvana look like? I know you know.\", \"score\" : 1600},\n",
    "        {\"advice\" : \"You can't get better karma, but I know that won't stop you from trying!\", \"score\" : 1750}\n",
    "        ]\n",
    "    for rating in ratings:\n",
    "        if rating[\"score\"] == num:\n",
    "            return rating[\"advice\"]"
   ]
  },
  {
   "cell_type": "code",
   "execution_count": null,
   "metadata": {},
   "outputs": [],
   "source": [
    "# choice 1 will display the user's current karma score and advice\n",
    "\n",
    "if choice == \"1\":\n",
    "        wait(1)\n",
    "        r =  open(\"karma_score.txt\", \"r\")\n",
    "        num = r.readline()\n",
    "        print(f\"Your current karma score is k{num} \\n\")\n",
    "        print(karma_score(num))\n",
    "        r.close()\n",
    "        wait(1)\n",
    "        continue"
   ]
  },
  {
   "cell_type": "code",
   "execution_count": null,
   "metadata": {},
   "outputs": [],
   "source": [
    "# choice 2 will debit 150 karma point from the balance and return advice\n",
    "\n",
    "    elif choice == \"2\":\n",
    "        wait(1)\n",
    "        with open(\"karma_score.txt\", \"r\") as r:\n",
    "            balance = r.readline()\n",
    "            fbalance = float(balance)\n",
    "            if fbalance >= debit:\n",
    "                fbalance -= debit\n",
    "                with open(\"checkbook_info.txt\", \"w\") as w:\n",
    "                    w.write(str(fbalance))\n",
    "                print(\"Your karma deduction is complete! \\n\")\n",
    "                wait(1)\n",
    "            else:\n",
    "                print(\"You do not have the karma points to do things like this. Behave! \\n\")"
   ]
  },
  {
   "cell_type": "code",
   "execution_count": null,
   "metadata": {},
   "outputs": [],
   "source": [
    "# choice 3 will deposit 150 karma point from the balance and return advice\n",
    "\n",
    "    elif choice == \"3\":\n",
    "        wait(1)\n",
    "        with open(\"karma_score.txt\", \"r\") as r:\n",
    "            balance = r.readline()\n",
    "            fbalance = int(balance)\n",
    "            if fbalance <= 1600:\n",
    "                fbalance = fbalance + 150\n",
    "                with open(\"karma_score.txt\", \"w\") as w:\n",
    "                    w.write(str(fbalance))\n",
    "                print(\"Your karma deposit is complete! \\n\")\n",
    "                wait(1)"
   ]
  },
  {
   "cell_type": "code",
   "execution_count": null,
   "metadata": {},
   "outputs": [],
   "source": [
    "# choice 4 will thank the user and exit while True\n",
    "    elif choice == \"4\":\n",
    "        print(\"\\nThanks for keeping track of your karma. Go do good! \\n\")\n",
    "        wait(.5)\n",
    "        break"
   ]
  }
 ],
 "metadata": {
  "kernelspec": {
   "display_name": "Python 3",
   "language": "python",
   "name": "python3"
  },
  "language_info": {
   "codemirror_mode": {
    "name": "ipython",
    "version": 3
   },
   "file_extension": ".py",
   "mimetype": "text/x-python",
   "name": "python",
   "nbconvert_exporter": "python",
   "pygments_lexer": "ipython3",
   "version": "3.7.3"
  }
 },
 "nbformat": 4,
 "nbformat_minor": 2
}
